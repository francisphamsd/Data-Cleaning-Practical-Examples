{
 "cells": [
  {
   "cell_type": "code",
   "execution_count": 3,
   "metadata": {},
   "outputs": [
    {
     "name": "stdout",
     "output_type": "stream",
     "text": [
      "Requirement already satisfied: pandas in /Users/workspace/Library/Mobile Documents/com~apple~CloudDocs/Documents/Data Analyst Project/Data-Cleaning-Practical-Examples/.venv/lib/python3.12/site-packages (2.2.1)\n",
      "Requirement already satisfied: numpy in /Users/workspace/Library/Mobile Documents/com~apple~CloudDocs/Documents/Data Analyst Project/Data-Cleaning-Practical-Examples/.venv/lib/python3.12/site-packages (1.26.4)\n",
      "Requirement already satisfied: python-dateutil>=2.8.2 in /Users/workspace/Library/Mobile Documents/com~apple~CloudDocs/Documents/Data Analyst Project/Data-Cleaning-Practical-Examples/.venv/lib/python3.12/site-packages (from pandas) (2.9.0.post0)\n",
      "Requirement already satisfied: pytz>=2020.1 in /Users/workspace/Library/Mobile Documents/com~apple~CloudDocs/Documents/Data Analyst Project/Data-Cleaning-Practical-Examples/.venv/lib/python3.12/site-packages (from pandas) (2024.1)\n",
      "Requirement already satisfied: tzdata>=2022.7 in /Users/workspace/Library/Mobile Documents/com~apple~CloudDocs/Documents/Data Analyst Project/Data-Cleaning-Practical-Examples/.venv/lib/python3.12/site-packages (from pandas) (2024.1)\n",
      "Requirement already satisfied: six>=1.5 in /Users/workspace/Library/Mobile Documents/com~apple~CloudDocs/Documents/Data Analyst Project/Data-Cleaning-Practical-Examples/.venv/lib/python3.12/site-packages (from python-dateutil>=2.8.2->pandas) (1.16.0)\n",
      "Note: you may need to restart the kernel to use updated packages.\n"
     ]
    }
   ],
   "source": [
    "%pip install pandas numpy\n",
    "\n",
    "import pandas as pd\n",
    "import numpy as np"
   ]
  },
  {
   "cell_type": "code",
   "execution_count": 6,
   "metadata": {},
   "outputs": [],
   "source": [
    "df = pd.read_csv('raw_dataset.csv')"
   ]
  },
  {
   "cell_type": "code",
   "execution_count": 35,
   "metadata": {},
   "outputs": [
    {
     "data": {
      "text/html": [
       "<div>\n",
       "<style scoped>\n",
       "    .dataframe tbody tr th:only-of-type {\n",
       "        vertical-align: middle;\n",
       "    }\n",
       "\n",
       "    .dataframe tbody tr th {\n",
       "        vertical-align: top;\n",
       "    }\n",
       "\n",
       "    .dataframe thead th {\n",
       "        text-align: right;\n",
       "    }\n",
       "</style>\n",
       "<table border=\"1\" class=\"dataframe\">\n",
       "  <thead>\n",
       "    <tr style=\"text-align: right;\">\n",
       "      <th></th>\n",
       "      <th>First Name</th>\n",
       "      <th>Last name</th>\n",
       "      <th>Age</th>\n",
       "      <th>SALARY</th>\n",
       "      <th>STREET Address1</th>\n",
       "      <th>STREET Address2</th>\n",
       "      <th>STREET Address3</th>\n",
       "      <th>email</th>\n",
       "    </tr>\n",
       "  </thead>\n",
       "  <tbody>\n",
       "    <tr>\n",
       "      <th>0</th>\n",
       "      <td>Joel</td>\n",
       "      <td>Padilla</td>\n",
       "      <td>10/28/2019</td>\n",
       "      <td>$92.32</td>\n",
       "      <td>431-6530 Eu, Rd.</td>\n",
       "      <td>364-2264 Augue Rd.</td>\n",
       "      <td>P.O. Box 864, 3882 Orci Street</td>\n",
       "      <td>eu@nibh.com</td>\n",
       "    </tr>\n",
       "    <tr>\n",
       "      <th>1</th>\n",
       "      <td>Fritz</td>\n",
       "      <td>Tyler</td>\n",
       "      <td>09/27/2019</td>\n",
       "      <td>$83.91</td>\n",
       "      <td>Ap #377-2267 Ac Av.</td>\n",
       "      <td>979-2228 Vel Ave</td>\n",
       "      <td>9865 Eu Av.</td>\n",
       "      <td>est.ac.mattis@malesuadafringilla.net</td>\n",
       "    </tr>\n",
       "    <tr>\n",
       "      <th>2</th>\n",
       "      <td>Wing</td>\n",
       "      <td>Phelps</td>\n",
       "      <td>02/18/2019</td>\n",
       "      <td>$17.15</td>\n",
       "      <td>Ap #545-5786 Pulvinar Ave</td>\n",
       "      <td>Ap #973-5781 Sagittis Avenue</td>\n",
       "      <td>9959 Ut St.</td>\n",
       "      <td>dolor@cubilia.net</td>\n",
       "    </tr>\n",
       "    <tr>\n",
       "      <th>3</th>\n",
       "      <td>Ryan</td>\n",
       "      <td>Ross</td>\n",
       "      <td>05/21/2019</td>\n",
       "      <td>$45.97</td>\n",
       "      <td>634-7858 Id Road</td>\n",
       "      <td>907-8824 Fringilla Ave</td>\n",
       "      <td>318-5271 In Ave</td>\n",
       "      <td>interdum.libero.dui@vitaeerat.com</td>\n",
       "    </tr>\n",
       "    <tr>\n",
       "      <th>4</th>\n",
       "      <td>Drake</td>\n",
       "      <td>Day</td>\n",
       "      <td>01/09/2020</td>\n",
       "      <td>$84.38</td>\n",
       "      <td>999-8221 Tempor, St.</td>\n",
       "      <td>297-6939 Turpis. Ave</td>\n",
       "      <td>P.O. Box 638, 6932 Laoreet Rd.</td>\n",
       "      <td>nulla.Integer.vulputate@liberoat.ca</td>\n",
       "    </tr>\n",
       "    <tr>\n",
       "      <th>...</th>\n",
       "      <td>...</td>\n",
       "      <td>...</td>\n",
       "      <td>...</td>\n",
       "      <td>...</td>\n",
       "      <td>...</td>\n",
       "      <td>...</td>\n",
       "      <td>...</td>\n",
       "      <td>...</td>\n",
       "    </tr>\n",
       "    <tr>\n",
       "      <th>95</th>\n",
       "      <td>Victor</td>\n",
       "      <td>Hobbs</td>\n",
       "      <td>05/24/2019</td>\n",
       "      <td>$54.56</td>\n",
       "      <td>4034 Vitae St.</td>\n",
       "      <td>P.O. Box 930, 1683 Eu Rd.</td>\n",
       "      <td>P.O. Box 181, 3360 Mus. Rd.</td>\n",
       "      <td>ipsum@dictumaugue.com</td>\n",
       "    </tr>\n",
       "    <tr>\n",
       "      <th>96</th>\n",
       "      <td>Neil</td>\n",
       "      <td>Bradford</td>\n",
       "      <td>02/07/2020</td>\n",
       "      <td>$74.52</td>\n",
       "      <td>1434 Aliquet, Street</td>\n",
       "      <td>956-6627 Nunc Av.</td>\n",
       "      <td>Ap #727-6109 Sapien. Av.</td>\n",
       "      <td>sapien.Nunc@euodioPhasellus.net</td>\n",
       "    </tr>\n",
       "    <tr>\n",
       "      <th>97</th>\n",
       "      <td>Noble</td>\n",
       "      <td>Conrad</td>\n",
       "      <td>10/29/2019</td>\n",
       "      <td>$43.99</td>\n",
       "      <td>Ap #173-7049 Eget, St.</td>\n",
       "      <td>Ap #620-2512 Ut Street</td>\n",
       "      <td>8768 Aenean St.</td>\n",
       "      <td>tellus.Nunc.lectus@ornare.org</td>\n",
       "    </tr>\n",
       "    <tr>\n",
       "      <th>98</th>\n",
       "      <td>Brody</td>\n",
       "      <td>Whitaker</td>\n",
       "      <td>08/09/2018</td>\n",
       "      <td>$96.24</td>\n",
       "      <td>Ap #371-9803 Aliquam Rd.</td>\n",
       "      <td>8892 Euismod Street</td>\n",
       "      <td>Ap #201-659 Libero. Street</td>\n",
       "      <td>non.dapibus.rutrum@eumetus.co.uk</td>\n",
       "    </tr>\n",
       "    <tr>\n",
       "      <th>99</th>\n",
       "      <td>Alden</td>\n",
       "      <td>Mccormick</td>\n",
       "      <td>07/27/2019</td>\n",
       "      <td>$2.66</td>\n",
       "      <td>Ap #375-1139 Risus. Road</td>\n",
       "      <td>7259 Duis Avenue</td>\n",
       "      <td>955-4058 Maecenas St.</td>\n",
       "      <td>ut.erat@aceleifend.com</td>\n",
       "    </tr>\n",
       "  </tbody>\n",
       "</table>\n",
       "<p>100 rows × 8 columns</p>\n",
       "</div>"
      ],
      "text/plain": [
       "   First Name  Last name         Age  SALARY            STREET Address1  \\\n",
       "0        Joel    Padilla  10/28/2019  $92.32           431-6530 Eu, Rd.   \n",
       "1       Fritz      Tyler  09/27/2019  $83.91        Ap #377-2267 Ac Av.   \n",
       "2        Wing     Phelps  02/18/2019  $17.15  Ap #545-5786 Pulvinar Ave   \n",
       "3        Ryan       Ross  05/21/2019  $45.97           634-7858 Id Road   \n",
       "4       Drake        Day  01/09/2020  $84.38       999-8221 Tempor, St.   \n",
       "..        ...        ...         ...     ...                        ...   \n",
       "95     Victor      Hobbs  05/24/2019  $54.56             4034 Vitae St.   \n",
       "96       Neil   Bradford  02/07/2020  $74.52       1434 Aliquet, Street   \n",
       "97      Noble     Conrad  10/29/2019  $43.99     Ap #173-7049 Eget, St.   \n",
       "98      Brody   Whitaker  08/09/2018  $96.24   Ap #371-9803 Aliquam Rd.   \n",
       "99      Alden  Mccormick  07/27/2019   $2.66   Ap #375-1139 Risus. Road   \n",
       "\n",
       "                 STREET Address2                 STREET Address3  \\\n",
       "0             364-2264 Augue Rd.  P.O. Box 864, 3882 Orci Street   \n",
       "1               979-2228 Vel Ave                     9865 Eu Av.   \n",
       "2   Ap #973-5781 Sagittis Avenue                     9959 Ut St.   \n",
       "3         907-8824 Fringilla Ave                 318-5271 In Ave   \n",
       "4           297-6939 Turpis. Ave  P.O. Box 638, 6932 Laoreet Rd.   \n",
       "..                           ...                             ...   \n",
       "95     P.O. Box 930, 1683 Eu Rd.     P.O. Box 181, 3360 Mus. Rd.   \n",
       "96             956-6627 Nunc Av.        Ap #727-6109 Sapien. Av.   \n",
       "97        Ap #620-2512 Ut Street                 8768 Aenean St.   \n",
       "98           8892 Euismod Street      Ap #201-659 Libero. Street   \n",
       "99              7259 Duis Avenue           955-4058 Maecenas St.   \n",
       "\n",
       "                                   email  \n",
       "0                            eu@nibh.com  \n",
       "1   est.ac.mattis@malesuadafringilla.net  \n",
       "2                      dolor@cubilia.net  \n",
       "3      interdum.libero.dui@vitaeerat.com  \n",
       "4    nulla.Integer.vulputate@liberoat.ca  \n",
       "..                                   ...  \n",
       "95                 ipsum@dictumaugue.com  \n",
       "96       sapien.Nunc@euodioPhasellus.net  \n",
       "97         tellus.Nunc.lectus@ornare.org  \n",
       "98      non.dapibus.rutrum@eumetus.co.uk  \n",
       "99                ut.erat@aceleifend.com  \n",
       "\n",
       "[100 rows x 8 columns]"
      ]
     },
     "execution_count": 35,
     "metadata": {},
     "output_type": "execute_result"
    }
   ],
   "source": [
    "df"
   ]
  },
  {
   "cell_type": "code",
   "execution_count": 28,
   "metadata": {},
   "outputs": [
    {
     "name": "stdout",
     "output_type": "stream",
     "text": [
      "<class 'pandas.core.frame.DataFrame'>\n",
      "RangeIndex: 100 entries, 0 to 99\n",
      "Data columns (total 8 columns):\n",
      " #   Column           Non-Null Count  Dtype \n",
      "---  ------           --------------  ----- \n",
      " 0   First Name       100 non-null    object\n",
      " 1   Last name        100 non-null    object\n",
      " 2   Age              100 non-null    object\n",
      " 3   SALARY           100 non-null    object\n",
      " 4   STREET Address1  100 non-null    object\n",
      " 5   STREET Address2  100 non-null    object\n",
      " 6   STREET Address3  100 non-null    object\n",
      " 7   email            100 non-null    object\n",
      "dtypes: object(8)\n",
      "memory usage: 6.4+ KB\n"
     ]
    }
   ],
   "source": [
    "df.info()"
   ]
  },
  {
   "cell_type": "code",
   "execution_count": 27,
   "metadata": {},
   "outputs": [
    {
     "data": {
      "text/html": [
       "<div>\n",
       "<style scoped>\n",
       "    .dataframe tbody tr th:only-of-type {\n",
       "        vertical-align: middle;\n",
       "    }\n",
       "\n",
       "    .dataframe tbody tr th {\n",
       "        vertical-align: top;\n",
       "    }\n",
       "\n",
       "    .dataframe thead th {\n",
       "        text-align: right;\n",
       "    }\n",
       "</style>\n",
       "<table border=\"1\" class=\"dataframe\">\n",
       "  <thead>\n",
       "    <tr style=\"text-align: right;\">\n",
       "      <th></th>\n",
       "      <th>First Name</th>\n",
       "      <th>Last name</th>\n",
       "      <th>Age</th>\n",
       "      <th>SALARY</th>\n",
       "      <th>STREET Address1</th>\n",
       "      <th>STREET Address2</th>\n",
       "      <th>STREET Address3</th>\n",
       "      <th>email</th>\n",
       "    </tr>\n",
       "  </thead>\n",
       "  <tbody>\n",
       "    <tr>\n",
       "      <th>count</th>\n",
       "      <td>100</td>\n",
       "      <td>100</td>\n",
       "      <td>100</td>\n",
       "      <td>100</td>\n",
       "      <td>100</td>\n",
       "      <td>100</td>\n",
       "      <td>100</td>\n",
       "      <td>100</td>\n",
       "    </tr>\n",
       "    <tr>\n",
       "      <th>unique</th>\n",
       "      <td>91</td>\n",
       "      <td>97</td>\n",
       "      <td>91</td>\n",
       "      <td>100</td>\n",
       "      <td>100</td>\n",
       "      <td>100</td>\n",
       "      <td>100</td>\n",
       "      <td>100</td>\n",
       "    </tr>\n",
       "    <tr>\n",
       "      <th>top</th>\n",
       "      <td>Abbot</td>\n",
       "      <td>Conrad</td>\n",
       "      <td>09/27/2019</td>\n",
       "      <td>$92.32</td>\n",
       "      <td>431-6530 Eu, Rd.</td>\n",
       "      <td>364-2264 Augue Rd.</td>\n",
       "      <td>P.O. Box 864, 3882 Orci Street</td>\n",
       "      <td>eu@nibh.com</td>\n",
       "    </tr>\n",
       "    <tr>\n",
       "      <th>freq</th>\n",
       "      <td>2</td>\n",
       "      <td>2</td>\n",
       "      <td>2</td>\n",
       "      <td>1</td>\n",
       "      <td>1</td>\n",
       "      <td>1</td>\n",
       "      <td>1</td>\n",
       "      <td>1</td>\n",
       "    </tr>\n",
       "  </tbody>\n",
       "</table>\n",
       "</div>"
      ],
      "text/plain": [
       "       First Name Last name         Age  SALARY   STREET Address1  \\\n",
       "count         100       100         100     100               100   \n",
       "unique         91        97          91     100               100   \n",
       "top         Abbot    Conrad  09/27/2019  $92.32  431-6530 Eu, Rd.   \n",
       "freq            2         2           2       1                 1   \n",
       "\n",
       "           STREET Address2                 STREET Address3        email  \n",
       "count                  100                             100          100  \n",
       "unique                 100                             100          100  \n",
       "top     364-2264 Augue Rd.  P.O. Box 864, 3882 Orci Street  eu@nibh.com  \n",
       "freq                     1                               1            1  "
      ]
     },
     "execution_count": 27,
     "metadata": {},
     "output_type": "execute_result"
    }
   ],
   "source": [
    "df.describe()"
   ]
  },
  {
   "cell_type": "code",
   "execution_count": 31,
   "metadata": {},
   "outputs": [
    {
     "data": {
      "text/plain": [
       "(100, 8)"
      ]
     },
     "execution_count": 31,
     "metadata": {},
     "output_type": "execute_result"
    }
   ],
   "source": [
    "df.shape"
   ]
  },
  {
   "cell_type": "code",
   "execution_count": 34,
   "metadata": {},
   "outputs": [
    {
     "data": {
      "text/plain": [
       "First Name         object\n",
       "Last name          object\n",
       "Age                object\n",
       "SALARY             object\n",
       "STREET Address1    object\n",
       "STREET Address2    object\n",
       "STREET Address3    object\n",
       "email              object\n",
       "dtype: object"
      ]
     },
     "execution_count": 34,
     "metadata": {},
     "output_type": "execute_result"
    }
   ],
   "source": [
    "df.dtypes"
   ]
  },
  {
   "cell_type": "code",
   "execution_count": 36,
   "metadata": {},
   "outputs": [
    {
     "data": {
      "text/plain": [
       "pandas.core.frame.DataFrame"
      ]
     },
     "execution_count": 36,
     "metadata": {},
     "output_type": "execute_result"
    }
   ],
   "source": [
    "type(df)"
   ]
  },
  {
   "cell_type": "code",
   "execution_count": 49,
   "metadata": {},
   "outputs": [
    {
     "data": {
      "text/plain": [
       "array(['First Name', 'Last name', 'Age', 'SALARY', 'STREET Address1',\n",
       "       'STREET Address2', 'STREET Address3', 'email'], dtype=object)"
      ]
     },
     "execution_count": 49,
     "metadata": {},
     "output_type": "execute_result"
    }
   ],
   "source": [
    "df.columns.values"
   ]
  },
  {
   "cell_type": "code",
   "execution_count": 56,
   "metadata": {},
   "outputs": [
    {
     "data": {
      "text/plain": [
       "['First Name',\n",
       " 'Last name',\n",
       " 'Age',\n",
       " 'SALARY',\n",
       " 'STREET Address1',\n",
       " 'STREET Address2',\n",
       " 'STREET Address3',\n",
       " 'email']"
      ]
     },
     "execution_count": 56,
     "metadata": {},
     "output_type": "execute_result"
    }
   ],
   "source": [
    "df.columns.to_list()"
   ]
  },
  {
   "cell_type": "code",
   "execution_count": 57,
   "metadata": {},
   "outputs": [
    {
     "data": {
      "text/plain": [
       "First Name              First Name\n",
       "Last name                Last name\n",
       "Age                            Age\n",
       "SALARY                      SALARY\n",
       "STREET Address1    STREET Address1\n",
       "STREET Address2    STREET Address2\n",
       "STREET Address3    STREET Address3\n",
       "email                        email\n",
       "dtype: object"
      ]
     },
     "execution_count": 57,
     "metadata": {},
     "output_type": "execute_result"
    }
   ],
   "source": [
    "df.columns.to_series()"
   ]
  },
  {
   "cell_type": "code",
   "execution_count": 58,
   "metadata": {},
   "outputs": [
    {
     "data": {
      "text/html": [
       "<div>\n",
       "<style scoped>\n",
       "    .dataframe tbody tr th:only-of-type {\n",
       "        vertical-align: middle;\n",
       "    }\n",
       "\n",
       "    .dataframe tbody tr th {\n",
       "        vertical-align: top;\n",
       "    }\n",
       "\n",
       "    .dataframe thead th {\n",
       "        text-align: right;\n",
       "    }\n",
       "</style>\n",
       "<table border=\"1\" class=\"dataframe\">\n",
       "  <thead>\n",
       "    <tr style=\"text-align: right;\">\n",
       "      <th></th>\n",
       "      <th>0</th>\n",
       "    </tr>\n",
       "  </thead>\n",
       "  <tbody>\n",
       "    <tr>\n",
       "      <th>First Name</th>\n",
       "      <td>First Name</td>\n",
       "    </tr>\n",
       "    <tr>\n",
       "      <th>Last name</th>\n",
       "      <td>Last name</td>\n",
       "    </tr>\n",
       "    <tr>\n",
       "      <th>Age</th>\n",
       "      <td>Age</td>\n",
       "    </tr>\n",
       "    <tr>\n",
       "      <th>SALARY</th>\n",
       "      <td>SALARY</td>\n",
       "    </tr>\n",
       "    <tr>\n",
       "      <th>STREET Address1</th>\n",
       "      <td>STREET Address1</td>\n",
       "    </tr>\n",
       "    <tr>\n",
       "      <th>STREET Address2</th>\n",
       "      <td>STREET Address2</td>\n",
       "    </tr>\n",
       "    <tr>\n",
       "      <th>STREET Address3</th>\n",
       "      <td>STREET Address3</td>\n",
       "    </tr>\n",
       "    <tr>\n",
       "      <th>email</th>\n",
       "      <td>email</td>\n",
       "    </tr>\n",
       "  </tbody>\n",
       "</table>\n",
       "</div>"
      ],
      "text/plain": [
       "                               0\n",
       "First Name            First Name\n",
       "Last name              Last name\n",
       "Age                          Age\n",
       "SALARY                    SALARY\n",
       "STREET Address1  STREET Address1\n",
       "STREET Address2  STREET Address2\n",
       "STREET Address3  STREET Address3\n",
       "email                      email"
      ]
     },
     "execution_count": 58,
     "metadata": {},
     "output_type": "execute_result"
    }
   ],
   "source": [
    "df.columns.to_frame()"
   ]
  },
  {
   "cell_type": "code",
   "execution_count": 61,
   "metadata": {},
   "outputs": [
    {
     "data": {
      "text/plain": [
       "True"
      ]
     },
     "execution_count": 61,
     "metadata": {},
     "output_type": "execute_result"
    }
   ],
   "source": [
    "df.columns.__contains__('First Name')"
   ]
  },
  {
   "cell_type": "code",
   "execution_count": 65,
   "metadata": {},
   "outputs": [
    {
     "data": {
      "text/plain": [
       "array([False, False, False, False, False, False, False, False])"
      ]
     },
     "execution_count": 65,
     "metadata": {},
     "output_type": "execute_result"
    }
   ],
   "source": [
    "df.columns.duplicated()"
   ]
  },
  {
   "cell_type": "code",
   "execution_count": 66,
   "metadata": {},
   "outputs": [
    {
     "data": {
      "text/plain": [
       "Index(['first name', 'last name', 'age', 'salary', 'street address1',\n",
       "       'street address2', 'street address3', 'email'],\n",
       "      dtype='object')"
      ]
     },
     "execution_count": 66,
     "metadata": {},
     "output_type": "execute_result"
    }
   ],
   "source": [
    "df.columns.str.lower()"
   ]
  },
  {
   "cell_type": "code",
   "execution_count": 68,
   "metadata": {},
   "outputs": [
    {
     "data": {
      "text/plain": [
       "Index(['FIRST NAME', 'LAST NAME', 'AGE', 'SALARY', 'STREET ADDRESS1',\n",
       "       'STREET ADDRESS2', 'STREET ADDRESS3', 'EMAIL'],\n",
       "      dtype='object')"
      ]
     },
     "execution_count": 68,
     "metadata": {},
     "output_type": "execute_result"
    }
   ],
   "source": [
    "df.columns.str.upper()"
   ]
  },
  {
   "cell_type": "code",
   "execution_count": 69,
   "metadata": {},
   "outputs": [
    {
     "data": {
      "text/plain": [
       "Index(['First Name', 'Last Name', 'Age', 'Salary', 'Street Address1',\n",
       "       'Street Address2', 'Street Address3', 'Email'],\n",
       "      dtype='object')"
      ]
     },
     "execution_count": 69,
     "metadata": {},
     "output_type": "execute_result"
    }
   ],
   "source": [
    "df.columns.str.title()"
   ]
  },
  {
   "cell_type": "code",
   "execution_count": 70,
   "metadata": {},
   "outputs": [
    {
     "data": {
      "text/plain": [
       "Index(['First_Name', 'Last_name', 'Age', 'SALARY', 'STREET_Address1',\n",
       "       'STREET_Address2', 'STREET_Address3', 'email'],\n",
       "      dtype='object')"
      ]
     },
     "execution_count": 70,
     "metadata": {},
     "output_type": "execute_result"
    }
   ],
   "source": [
    "df.columns.str.replace(' ','_')"
   ]
  },
  {
   "cell_type": "code",
   "execution_count": 77,
   "metadata": {},
   "outputs": [],
   "source": [
    "df.columns = df.columns.str.title()\n",
    "df.columns = df.columns.str.replace(' ','_')"
   ]
  },
  {
   "cell_type": "code",
   "execution_count": 78,
   "metadata": {},
   "outputs": [
    {
     "data": {
      "text/html": [
       "<div>\n",
       "<style scoped>\n",
       "    .dataframe tbody tr th:only-of-type {\n",
       "        vertical-align: middle;\n",
       "    }\n",
       "\n",
       "    .dataframe tbody tr th {\n",
       "        vertical-align: top;\n",
       "    }\n",
       "\n",
       "    .dataframe thead th {\n",
       "        text-align: right;\n",
       "    }\n",
       "</style>\n",
       "<table border=\"1\" class=\"dataframe\">\n",
       "  <thead>\n",
       "    <tr style=\"text-align: right;\">\n",
       "      <th></th>\n",
       "      <th>First_Name</th>\n",
       "      <th>Last_Name</th>\n",
       "      <th>Date_of_Birth</th>\n",
       "      <th>Salary</th>\n",
       "      <th>Street_Address1</th>\n",
       "      <th>Street_Address2</th>\n",
       "      <th>Street_Address3</th>\n",
       "      <th>Email</th>\n",
       "    </tr>\n",
       "  </thead>\n",
       "  <tbody>\n",
       "    <tr>\n",
       "      <th>0</th>\n",
       "      <td>Joel</td>\n",
       "      <td>Padilla</td>\n",
       "      <td>10/28/2019</td>\n",
       "      <td>$92.32</td>\n",
       "      <td>431-6530 Eu, Rd.</td>\n",
       "      <td>364-2264 Augue Rd.</td>\n",
       "      <td>P.O. Box 864, 3882 Orci Street</td>\n",
       "      <td>eu@nibh.com</td>\n",
       "    </tr>\n",
       "    <tr>\n",
       "      <th>1</th>\n",
       "      <td>Fritz</td>\n",
       "      <td>Tyler</td>\n",
       "      <td>09/27/2019</td>\n",
       "      <td>$83.91</td>\n",
       "      <td>Ap #377-2267 Ac Av.</td>\n",
       "      <td>979-2228 Vel Ave</td>\n",
       "      <td>9865 Eu Av.</td>\n",
       "      <td>est.ac.mattis@malesuadafringilla.net</td>\n",
       "    </tr>\n",
       "    <tr>\n",
       "      <th>2</th>\n",
       "      <td>Wing</td>\n",
       "      <td>Phelps</td>\n",
       "      <td>02/18/2019</td>\n",
       "      <td>$17.15</td>\n",
       "      <td>Ap #545-5786 Pulvinar Ave</td>\n",
       "      <td>Ap #973-5781 Sagittis Avenue</td>\n",
       "      <td>9959 Ut St.</td>\n",
       "      <td>dolor@cubilia.net</td>\n",
       "    </tr>\n",
       "    <tr>\n",
       "      <th>3</th>\n",
       "      <td>Ryan</td>\n",
       "      <td>Ross</td>\n",
       "      <td>05/21/2019</td>\n",
       "      <td>$45.97</td>\n",
       "      <td>634-7858 Id Road</td>\n",
       "      <td>907-8824 Fringilla Ave</td>\n",
       "      <td>318-5271 In Ave</td>\n",
       "      <td>interdum.libero.dui@vitaeerat.com</td>\n",
       "    </tr>\n",
       "    <tr>\n",
       "      <th>4</th>\n",
       "      <td>Drake</td>\n",
       "      <td>Day</td>\n",
       "      <td>01/09/2020</td>\n",
       "      <td>$84.38</td>\n",
       "      <td>999-8221 Tempor, St.</td>\n",
       "      <td>297-6939 Turpis. Ave</td>\n",
       "      <td>P.O. Box 638, 6932 Laoreet Rd.</td>\n",
       "      <td>nulla.Integer.vulputate@liberoat.ca</td>\n",
       "    </tr>\n",
       "    <tr>\n",
       "      <th>...</th>\n",
       "      <td>...</td>\n",
       "      <td>...</td>\n",
       "      <td>...</td>\n",
       "      <td>...</td>\n",
       "      <td>...</td>\n",
       "      <td>...</td>\n",
       "      <td>...</td>\n",
       "      <td>...</td>\n",
       "    </tr>\n",
       "    <tr>\n",
       "      <th>95</th>\n",
       "      <td>Victor</td>\n",
       "      <td>Hobbs</td>\n",
       "      <td>05/24/2019</td>\n",
       "      <td>$54.56</td>\n",
       "      <td>4034 Vitae St.</td>\n",
       "      <td>P.O. Box 930, 1683 Eu Rd.</td>\n",
       "      <td>P.O. Box 181, 3360 Mus. Rd.</td>\n",
       "      <td>ipsum@dictumaugue.com</td>\n",
       "    </tr>\n",
       "    <tr>\n",
       "      <th>96</th>\n",
       "      <td>Neil</td>\n",
       "      <td>Bradford</td>\n",
       "      <td>02/07/2020</td>\n",
       "      <td>$74.52</td>\n",
       "      <td>1434 Aliquet, Street</td>\n",
       "      <td>956-6627 Nunc Av.</td>\n",
       "      <td>Ap #727-6109 Sapien. Av.</td>\n",
       "      <td>sapien.Nunc@euodioPhasellus.net</td>\n",
       "    </tr>\n",
       "    <tr>\n",
       "      <th>97</th>\n",
       "      <td>Noble</td>\n",
       "      <td>Conrad</td>\n",
       "      <td>10/29/2019</td>\n",
       "      <td>$43.99</td>\n",
       "      <td>Ap #173-7049 Eget, St.</td>\n",
       "      <td>Ap #620-2512 Ut Street</td>\n",
       "      <td>8768 Aenean St.</td>\n",
       "      <td>tellus.Nunc.lectus@ornare.org</td>\n",
       "    </tr>\n",
       "    <tr>\n",
       "      <th>98</th>\n",
       "      <td>Brody</td>\n",
       "      <td>Whitaker</td>\n",
       "      <td>08/09/2018</td>\n",
       "      <td>$96.24</td>\n",
       "      <td>Ap #371-9803 Aliquam Rd.</td>\n",
       "      <td>8892 Euismod Street</td>\n",
       "      <td>Ap #201-659 Libero. Street</td>\n",
       "      <td>non.dapibus.rutrum@eumetus.co.uk</td>\n",
       "    </tr>\n",
       "    <tr>\n",
       "      <th>99</th>\n",
       "      <td>Alden</td>\n",
       "      <td>Mccormick</td>\n",
       "      <td>07/27/2019</td>\n",
       "      <td>$2.66</td>\n",
       "      <td>Ap #375-1139 Risus. Road</td>\n",
       "      <td>7259 Duis Avenue</td>\n",
       "      <td>955-4058 Maecenas St.</td>\n",
       "      <td>ut.erat@aceleifend.com</td>\n",
       "    </tr>\n",
       "  </tbody>\n",
       "</table>\n",
       "<p>100 rows × 8 columns</p>\n",
       "</div>"
      ],
      "text/plain": [
       "   First_Name  Last_Name Date_of_Birth  Salary            Street_Address1  \\\n",
       "0        Joel    Padilla    10/28/2019  $92.32           431-6530 Eu, Rd.   \n",
       "1       Fritz      Tyler    09/27/2019  $83.91        Ap #377-2267 Ac Av.   \n",
       "2        Wing     Phelps    02/18/2019  $17.15  Ap #545-5786 Pulvinar Ave   \n",
       "3        Ryan       Ross    05/21/2019  $45.97           634-7858 Id Road   \n",
       "4       Drake        Day    01/09/2020  $84.38       999-8221 Tempor, St.   \n",
       "..        ...        ...           ...     ...                        ...   \n",
       "95     Victor      Hobbs    05/24/2019  $54.56             4034 Vitae St.   \n",
       "96       Neil   Bradford    02/07/2020  $74.52       1434 Aliquet, Street   \n",
       "97      Noble     Conrad    10/29/2019  $43.99     Ap #173-7049 Eget, St.   \n",
       "98      Brody   Whitaker    08/09/2018  $96.24   Ap #371-9803 Aliquam Rd.   \n",
       "99      Alden  Mccormick    07/27/2019   $2.66   Ap #375-1139 Risus. Road   \n",
       "\n",
       "                 Street_Address2                 Street_Address3  \\\n",
       "0             364-2264 Augue Rd.  P.O. Box 864, 3882 Orci Street   \n",
       "1               979-2228 Vel Ave                     9865 Eu Av.   \n",
       "2   Ap #973-5781 Sagittis Avenue                     9959 Ut St.   \n",
       "3         907-8824 Fringilla Ave                 318-5271 In Ave   \n",
       "4           297-6939 Turpis. Ave  P.O. Box 638, 6932 Laoreet Rd.   \n",
       "..                           ...                             ...   \n",
       "95     P.O. Box 930, 1683 Eu Rd.     P.O. Box 181, 3360 Mus. Rd.   \n",
       "96             956-6627 Nunc Av.        Ap #727-6109 Sapien. Av.   \n",
       "97        Ap #620-2512 Ut Street                 8768 Aenean St.   \n",
       "98           8892 Euismod Street      Ap #201-659 Libero. Street   \n",
       "99              7259 Duis Avenue           955-4058 Maecenas St.   \n",
       "\n",
       "                                   Email  \n",
       "0                            eu@nibh.com  \n",
       "1   est.ac.mattis@malesuadafringilla.net  \n",
       "2                      dolor@cubilia.net  \n",
       "3      interdum.libero.dui@vitaeerat.com  \n",
       "4    nulla.Integer.vulputate@liberoat.ca  \n",
       "..                                   ...  \n",
       "95                 ipsum@dictumaugue.com  \n",
       "96       sapien.Nunc@euodioPhasellus.net  \n",
       "97         tellus.Nunc.lectus@ornare.org  \n",
       "98      non.dapibus.rutrum@eumetus.co.uk  \n",
       "99                ut.erat@aceleifend.com  \n",
       "\n",
       "[100 rows x 8 columns]"
      ]
     },
     "execution_count": 78,
     "metadata": {},
     "output_type": "execute_result"
    }
   ],
   "source": [
    "df.rename(columns={'Age':'Date_of_Birth'})"
   ]
  },
  {
   "cell_type": "code",
   "execution_count": 82,
   "metadata": {},
   "outputs": [],
   "source": [
    "df.rename(columns={'Age':'Date_of_Birth'}, inplace=True)"
   ]
  },
  {
   "cell_type": "code",
   "execution_count": 90,
   "metadata": {},
   "outputs": [
    {
     "data": {
      "text/plain": [
       "8"
      ]
     },
     "execution_count": 90,
     "metadata": {},
     "output_type": "execute_result"
    }
   ],
   "source": [
    "len(df.columns.values)"
   ]
  },
  {
   "cell_type": "code",
   "execution_count": 93,
   "metadata": {},
   "outputs": [],
   "source": [
    "df.columns.values[7] = 'Email_Address'"
   ]
  },
  {
   "cell_type": "code",
   "execution_count": 100,
   "metadata": {},
   "outputs": [
    {
     "data": {
      "text/plain": [
       "Index(['Date_of_Birth', 'Email_Address', 'First_Name', 'Last_Name',\n",
       "       'Street_Address1', 'Street_Address2', 'Street_Address3'],\n",
       "      dtype='object')"
      ]
     },
     "execution_count": 100,
     "metadata": {},
     "output_type": "execute_result"
    }
   ],
   "source": [
    "df.columns.difference(['Salary'])"
   ]
  },
  {
   "cell_type": "code",
   "execution_count": 102,
   "metadata": {},
   "outputs": [
    {
     "data": {
      "text/plain": [
       "Index(['Street_Address1', 'Street_Address2', 'Street_Address3'], dtype='object')"
      ]
     },
     "execution_count": 102,
     "metadata": {},
     "output_type": "execute_result"
    }
   ],
   "source": [
    "df.filter(like='Street').columns"
   ]
  },
  {
   "cell_type": "code",
   "execution_count": 103,
   "metadata": {},
   "outputs": [
    {
     "data": {
      "text/plain": [
       "Index(['First_Name', 'Last_Name'], dtype='object')"
      ]
     },
     "execution_count": 103,
     "metadata": {},
     "output_type": "execute_result"
    }
   ],
   "source": [
    "df.loc[:,df.columns.str.endswith('ame')].columns"
   ]
  },
  {
   "cell_type": "code",
   "execution_count": 115,
   "metadata": {},
   "outputs": [
    {
     "data": {
      "text/plain": [
       "Index(['First_Name', 'Last_Name'], dtype='object')"
      ]
     },
     "execution_count": 115,
     "metadata": {},
     "output_type": "execute_result"
    }
   ],
   "source": [
    "df.filter(regex='ame$',axis=1).columns"
   ]
  },
  {
   "cell_type": "code",
   "execution_count": 116,
   "metadata": {},
   "outputs": [
    {
     "data": {
      "text/plain": [
       "Index(['Last_Name', 'Date_of_Birth'], dtype='object')"
      ]
     },
     "execution_count": 116,
     "metadata": {},
     "output_type": "execute_result"
    }
   ],
   "source": [
    "df.columns[1:3]"
   ]
  }
 ],
 "metadata": {
  "kernelspec": {
   "display_name": ".venv",
   "language": "python",
   "name": "python3"
  },
  "language_info": {
   "codemirror_mode": {
    "name": "ipython",
    "version": 3
   },
   "file_extension": ".py",
   "mimetype": "text/x-python",
   "name": "python",
   "nbconvert_exporter": "python",
   "pygments_lexer": "ipython3",
   "version": "3.12.2"
  }
 },
 "nbformat": 4,
 "nbformat_minor": 2
}
